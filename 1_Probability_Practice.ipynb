{
 "cells": [
  {
   "cell_type": "markdown",
   "id": "dc54f771",
   "metadata": {},
   "source": [
    "## Part A\n",
    "\n",
    "RC: users are random clicker.\n",
    "\\\n",
    "TC: users are truthful clicker.\n",
    "\\\n",
    "Y: answered \"yes\"\n",
    "\\\n",
    "N: answered \"no\"\n",
    "\n",
    "**What we know:**\n",
    "\\\n",
    "$P(Y \\mid RC)$ = $P(N \\mid RC) = 0.5$\n",
    "\n",
    "$P(Y) = 0.65$\n",
    "\n",
    "$P(N) = 0.35$\n",
    "\n",
    "$P(RC) = 0.3$\n",
    "\n",
    "$P(TC) = 1-0.3 =0 .7$\n",
    "\n",
    "$P(A \\cap B) = ? $\n",
    "\n",
    "\n",
    "\n",
    "**According to the Rule of Total Probability:**\n",
    "\\\n",
    "$P(Y) = P(Y \\cap RC) + P(Y \\cap TC)$\n",
    "\\\n",
    "$= P(Y \\mid RC)*P(RC) + P(Y \\mid TC)*P(TC)$\n",
    "\\\n",
    "\n",
    "$ 0.65 = 0.5*0.3 + P(Y \\mid TC) * 0.7$\n",
    "\\\n",
    "$= 0.15+P(Y \\mid TC) * 0.7$\n",
    "\\\n",
    "$P(Y \\mid TC) = 0.5/0.7 \\approx 0.714$"
   ]
  },
  {
   "cell_type": "markdown",
   "id": "baf6afa9",
   "metadata": {},
   "source": [
    "## Part B\n",
    "\n",
    "$D$: Someone has the disease.\n",
    "\\\n",
    "$D^c$: Someone does not have the disease.\n",
    "\\\n",
    "$PT$: Someone got tested Positive.\n",
    "\\\n",
    "$PT^c$: Someone did not get tested Positive.\n",
    "\\\n",
    "Probability of having disease: $0.000025$\n",
    "\\\n",
    "**Sensitivity** : if someone has the diesase, probability of getting positive is 0.993. We can express this as $D \\cap PT$.\n",
    "\\\n",
    "**Specificity** : if someone does not have the disease, probability of getting negative is 0.9999.\n",
    "\n",
    "\n",
    "\n",
    "$P(D \\mid PT) = \\frac{P(D \\mid PT)}{P(PT)}$\n",
    "\\\n",
    "$ = \\frac{P(D \\mid PT)}{P(D)*P(PT \\mid Pd + P(D^c)*P(PT\\mid D^c)}$\n",
    "\n",
    "\n",
    "\n",
    "$ = \\frac{P(D)*P(PT \\mid D)}{P(D)*P(PT \\mid D)+ P(D^c)*P(PT \\mid D^c))} = \\frac{0.000025*0.993}{(0.000025*0.993)+(0.999975*0.0001)}$\n",
    "\n",
    "\n",
    "$ = 0.198882413 \\approx 19.888\\% $\n",
    "\n",
    "\n"
   ]
  }
 ],
 "metadata": {
  "kernelspec": {
   "display_name": "Python 3 (ipykernel)",
   "language": "python",
   "name": "python3"
  },
  "language_info": {
   "codemirror_mode": {
    "name": "ipython",
    "version": 3
   },
   "file_extension": ".py",
   "mimetype": "text/x-python",
   "name": "python",
   "nbconvert_exporter": "python",
   "pygments_lexer": "ipython3",
   "version": "3.9.13"
  }
 },
 "nbformat": 4,
 "nbformat_minor": 5
}
